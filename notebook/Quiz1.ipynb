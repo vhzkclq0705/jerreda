{
 "cells": [
  {
   "cell_type": "code",
   "execution_count": 1,
   "id": "6e8d7f14-49de-4adb-9530-4f1771bb4626",
   "metadata": {},
   "outputs": [],
   "source": [
    "from president_speech.db.parquet_interpreter import read_parquet, get_parquet_full_path"
   ]
  },
  {
   "cell_type": "code",
   "execution_count": 2,
   "id": "19bcfe71-b208-48e5-9455-9b308d471181",
   "metadata": {},
   "outputs": [],
   "source": [
    "data_path = get_parquet_full_path()"
   ]
  },
  {
   "cell_type": "code",
   "execution_count": 3,
   "id": "e94dad51-56c9-4ee5-bb15-2032341778c6",
   "metadata": {},
   "outputs": [],
   "source": [
    "import pandas as pd"
   ]
  },
  {
   "cell_type": "code",
   "execution_count": 4,
   "id": "2e2f9f5d-4c8b-40fc-99ef-1cf97e639688",
   "metadata": {},
   "outputs": [],
   "source": [
    "df = pd.read_parquet(data_path)"
   ]
  },
  {
   "cell_type": "code",
   "execution_count": 5,
   "id": "484318fe-70be-420c-831b-acb82416a595",
   "metadata": {},
   "outputs": [],
   "source": [
    "f_df = df[df['speech_text'].str.contains('올림픽', case=False)]"
   ]
  },
  {
   "cell_type": "code",
   "execution_count": 10,
   "id": "597eac4f-209a-4b32-8c51-5b1bc0f6d87e",
   "metadata": {},
   "outputs": [],
   "source": [
    "rdf = f_df.groupby('president').size().reset_index(name='count')"
   ]
  },
  {
   "cell_type": "code",
   "execution_count": 17,
   "id": "9a8e4314-6082-47ab-9739-ddf024f15de5",
   "metadata": {},
   "outputs": [],
   "source": [
    "sorted_rdf = rdf.sort_values(by='count', ascending=False).reset_index(drop=True)"
   ]
  },
  {
   "cell_type": "code",
   "execution_count": 23,
   "id": "2e0dd0c3-3d84-4ecd-a5d7-e536b9b2f6c6",
   "metadata": {},
   "outputs": [
    {
     "name": "stdout",
     "output_type": "stream",
     "text": [
      "  president  count\n",
      "0       노태우    292\n",
      "1       전두환    165\n",
      "2       문재인    161\n",
      "3       이명박    107\n",
      "4       김대중     40\n",
      "5       김영삼     32\n",
      "6       노무현     32\n",
      "7       박정희     29\n",
      "8       박근혜     14\n",
      "9       최규하      2\n"
     ]
    }
   ],
   "source": [
    "print(sorted_rdf.to_string(index=True))"
   ]
  },
  {
   "cell_type": "code",
   "execution_count": null,
   "id": "6508641b-4629-4178-aea6-5cb0065b4a04",
   "metadata": {},
   "outputs": [],
   "source": []
  }
 ],
 "metadata": {
  "kernelspec": {
   "display_name": "Python 3 (ipykernel)",
   "language": "python",
   "name": "python3"
  },
  "language_info": {
   "codemirror_mode": {
    "name": "ipython",
    "version": 3
   },
   "file_extension": ".py",
   "mimetype": "text/x-python",
   "name": "python",
   "nbconvert_exporter": "python",
   "pygments_lexer": "ipython3",
   "version": "3.10.12"
  }
 },
 "nbformat": 4,
 "nbformat_minor": 5
}
