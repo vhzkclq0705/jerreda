{
 "cells": [
  {
   "cell_type": "code",
   "execution_count": 1,
   "id": "6e8d7f14-49de-4adb-9530-4f1771bb4626",
   "metadata": {},
   "outputs": [],
   "source": [
    "from president_speech.db.parquet_interpreter import read_parquet, get_parquet_full_path"
   ]
  },
  {
   "cell_type": "code",
   "execution_count": 2,
   "id": "19bcfe71-b208-48e5-9455-9b308d471181",
   "metadata": {},
   "outputs": [],
   "source": [
    "data_path = get_parquet_full_path()"
   ]
  },
  {
   "cell_type": "code",
   "execution_count": 3,
   "id": "e94dad51-56c9-4ee5-bb15-2032341778c6",
   "metadata": {},
   "outputs": [],
   "source": [
    "import pandas as pd"
   ]
  },
  {
   "cell_type": "code",
   "execution_count": 4,
   "id": "2e2f9f5d-4c8b-40fc-99ef-1cf97e639688",
   "metadata": {},
   "outputs": [],
   "source": [
    "df = pd.read_parquet(data_path)"
   ]
  },
  {
   "cell_type": "code",
   "execution_count": 5,
   "id": "484318fe-70be-420c-831b-acb82416a595",
   "metadata": {},
   "outputs": [],
   "source": [
    "f_df = df[df['speech_text'].str.contains('올림픽', case=False)]"
   ]
  },
  {
   "cell_type": "code",
   "execution_count": 6,
   "id": "597eac4f-209a-4b32-8c51-5b1bc0f6d87e",
   "metadata": {},
   "outputs": [],
   "source": [
    "rdf = f_df.groupby('president').size()"
   ]
  },
  {
   "cell_type": "code",
   "execution_count": null,
   "id": "9a8e4314-6082-47ab-9739-ddf024f15de5",
   "metadata": {},
   "outputs": [],
   "source": []
  }
 ],
 "metadata": {
  "kernelspec": {
   "display_name": "Python 3 (ipykernel)",
   "language": "python",
   "name": "python3"
  },
  "language_info": {
   "codemirror_mode": {
    "name": "ipython",
    "version": 3
   },
   "file_extension": ".py",
   "mimetype": "text/x-python",
   "name": "python",
   "nbconvert_exporter": "python",
   "pygments_lexer": "ipython3",
   "version": "3.10.12"
  }
 },
 "nbformat": 4,
 "nbformat_minor": 5
}
