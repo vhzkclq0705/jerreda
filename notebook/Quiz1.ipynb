{
 "cells": [
  {
   "cell_type": "code",
   "execution_count": 1,
   "id": "6e8d7f14-49de-4adb-9530-4f1771bb4626",
   "metadata": {},
   "outputs": [],
   "source": [
    "from president_speech.db.parquet_interpreter import read_parquet, get_parquet_full_path"
   ]
  },
  {
   "cell_type": "code",
   "execution_count": 2,
   "id": "19bcfe71-b208-48e5-9455-9b308d471181",
   "metadata": {},
   "outputs": [],
   "source": [
    "data_path = get_parquet_full_path()"
   ]
  },
  {
   "cell_type": "code",
   "execution_count": 3,
   "id": "e94dad51-56c9-4ee5-bb15-2032341778c6",
   "metadata": {},
   "outputs": [],
   "source": [
    "import pandas as pd"
   ]
  },
  {
   "cell_type": "code",
   "execution_count": 4,
   "id": "2e2f9f5d-4c8b-40fc-99ef-1cf97e639688",
   "metadata": {},
   "outputs": [],
   "source": [
    "df = pd.read_parquet(data_path)"
   ]
  },
  {
   "cell_type": "code",
   "execution_count": 5,
   "id": "484318fe-70be-420c-831b-acb82416a595",
   "metadata": {},
   "outputs": [],
   "source": [
    "f_df = df[df['speech_text'].str.contains('올림픽', case=False)]"
   ]
  },
  {
   "cell_type": "code",
   "execution_count": 24,
   "id": "597eac4f-209a-4b32-8c51-5b1bc0f6d87e",
   "metadata": {},
   "outputs": [],
   "source": [
    "rdf = f_df.groupby('president').size().reset_index(name='count')"
   ]
  },
  {
   "cell_type": "code",
   "execution_count": 33,
   "id": "9a8e4314-6082-47ab-9739-ddf024f15de5",
   "metadata": {},
   "outputs": [],
   "source": [
    "sdf = rdf.sort_values(by='count', ascending=False).reset_index(drop=True)"
   ]
  },
  {
   "cell_type": "code",
   "execution_count": 34,
   "id": "2e0dd0c3-3d84-4ecd-a5d7-e536b9b2f6c6",
   "metadata": {},
   "outputs": [
    {
     "data": {
      "text/html": [
       "<div>\n",
       "<style scoped>\n",
       "    .dataframe tbody tr th:only-of-type {\n",
       "        vertical-align: middle;\n",
       "    }\n",
       "\n",
       "    .dataframe tbody tr th {\n",
       "        vertical-align: top;\n",
       "    }\n",
       "\n",
       "    .dataframe thead th {\n",
       "        text-align: right;\n",
       "    }\n",
       "</style>\n",
       "<table border=\"1\" class=\"dataframe\">\n",
       "  <thead>\n",
       "    <tr style=\"text-align: right;\">\n",
       "      <th></th>\n",
       "      <th>president</th>\n",
       "      <th>count</th>\n",
       "    </tr>\n",
       "  </thead>\n",
       "  <tbody>\n",
       "    <tr>\n",
       "      <th>0</th>\n",
       "      <td>노태우</td>\n",
       "      <td>292</td>\n",
       "    </tr>\n",
       "    <tr>\n",
       "      <th>1</th>\n",
       "      <td>전두환</td>\n",
       "      <td>165</td>\n",
       "    </tr>\n",
       "    <tr>\n",
       "      <th>2</th>\n",
       "      <td>문재인</td>\n",
       "      <td>161</td>\n",
       "    </tr>\n",
       "  </tbody>\n",
       "</table>\n",
       "</div>"
      ],
      "text/plain": [
       "  president  count\n",
       "0       노태우    292\n",
       "1       전두환    165\n",
       "2       문재인    161"
      ]
     },
     "execution_count": 34,
     "metadata": {},
     "output_type": "execute_result"
    }
   ],
   "source": [
    "sdf.head(3)"
   ]
  },
  {
   "cell_type": "code",
   "execution_count": 37,
   "id": "6508641b-4629-4178-aea6-5cb0065b4a04",
   "metadata": {},
   "outputs": [],
   "source": [
    "result = sdf.head(3).to_string(index=True)"
   ]
  },
  {
   "cell_type": "code",
   "execution_count": 38,
   "id": "7e272f68-32ab-42d7-8590-a8b790519ba5",
   "metadata": {},
   "outputs": [
    {
     "name": "stdout",
     "output_type": "stream",
     "text": [
      "  president  count\n",
      "0       노태우    292\n",
      "1       전두환    165\n",
      "2       문재인    161\n"
     ]
    }
   ],
   "source": [
    "print(result)"
   ]
  },
  {
   "cell_type": "code",
   "execution_count": null,
   "id": "7381c5f4-3b24-43da-b4e5-be7eff694551",
   "metadata": {},
   "outputs": [],
   "source": []
  }
 ],
 "metadata": {
  "kernelspec": {
   "display_name": "Python 3 (ipykernel)",
   "language": "python",
   "name": "python3"
  },
  "language_info": {
   "codemirror_mode": {
    "name": "ipython",
    "version": 3
   },
   "file_extension": ".py",
   "mimetype": "text/x-python",
   "name": "python",
   "nbconvert_exporter": "python",
   "pygments_lexer": "ipython3",
   "version": "3.10.12"
  }
 },
 "nbformat": 4,
 "nbformat_minor": 5
}
