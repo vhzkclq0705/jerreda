{
 "cells": [
  {
   "cell_type": "markdown",
   "id": "85bdc1bd-cac8-4ffe-a845-237d479f6238",
   "metadata": {},
   "source": [
    "# Chart 표시 및 패키지 사용해보기\n",
    "\n",
    "### Packages\n",
    "- matplotlib\n",
    "- termplotlib\n",
    "- tabulate\n",
    "- tqdm"
   ]
  },
  {
   "cell_type": "code",
   "execution_count": 11,
   "id": "35542367-f9fc-478f-b735-266ac2067321",
   "metadata": {},
   "outputs": [],
   "source": [
    "from president_speech.db.parquet_interpreter import read_parquet\n",
    "import pandas as pd\n",
    "import matplotlib as plt\n",
    "import termplotlib as tpl\n",
    "from tabulate import tabulate\n",
    "from tqdm import tqdm\n",
    "from time import sleep"
   ]
  },
  {
   "cell_type": "code",
   "execution_count": 5,
   "id": "2f9b8a29-dcc7-48d9-b4e0-1a004b8e81d3",
   "metadata": {},
   "outputs": [],
   "source": [
    "df = read_parquet()"
   ]
  },
  {
   "cell_type": "markdown",
   "id": "4ed7deac-3351-4c94-b002-fb8f35fab249",
   "metadata": {},
   "source": [
    "## tqdm\n",
    "\n",
    "[Documentation](https://pypi.org/project/tqdm/#table-of-contents)\n",
    "\n",
    "- `tqdm()`을 사용하여 특정 범위만큼의 숫자를 카운트하거나 진행도를 progress bar로 확인할 수 있다.\n",
    "\n",
    "### DataFrame의 모든 크기만큼 1씩 증가하는 progress bar 확인"
   ]
  },
  {
   "cell_type": "code",
   "execution_count": 22,
   "id": "ca91b0f8-86cd-4aca-86e2-e65eef847111",
   "metadata": {},
   "outputs": [
    {
     "name": "stderr",
     "output_type": "stream",
     "text": [
      "100%|█████████████████████████████████████████████████████████████| 61397/61397 [00:07<00:00, 7681.39it/s]\n"
     ]
    }
   ],
   "source": [
    "rows = df.shape[0]\n",
    "cols = df.shape[1]\n",
    "\n",
    "for i in tqdm(range(rows * cols)):\n",
    "    sleep(0.0001)\n",
    "    pass"
   ]
  },
  {
   "cell_type": "markdown",
   "id": "24220c77-f7c0-4ac4-842e-b2612d7d7fff",
   "metadata": {},
   "source": [
    "### progress bar의 형태 변환 및 이름 확인"
   ]
  },
  {
   "cell_type": "code",
   "execution_count": 23,
   "id": "6a31c1f7-5162-433c-9cd2-1fd2ef0e5957",
   "metadata": {},
   "outputs": [
    {
     "name": "stderr",
     "output_type": "stream",
     "text": [
      "Hi~: 100%|########################################################| 61397/61397 [00:07<00:00, 7701.66it/s]\n"
     ]
    }
   ],
   "source": [
    "for i in tqdm(range(rows * cols), ascii=True, desc=\"Hi~\"):\n",
    "    sleep(0.0001)\n",
    "    pass"
   ]
  },
  {
   "cell_type": "code",
   "execution_count": 25,
   "id": "e506e56b-9992-4012-969c-c4ae3fb8478c",
   "metadata": {},
   "outputs": [
    {
     "name": "stderr",
     "output_type": "stream",
     "text": [
      "100%|█████| 61397/61397 [00:07<00:00, 7711.92it/s]\n"
     ]
    }
   ],
   "source": [
    "for i in tqdm(range(rows * cols), ncols=50):\n",
    "    sleep(0.0001)\n",
    "    pass"
   ]
  },
  {
   "cell_type": "code",
   "execution_count": null,
   "id": "3d3690a4-8c6a-4381-acd8-b5ce1c59cb42",
   "metadata": {},
   "outputs": [],
   "source": []
  }
 ],
 "metadata": {
  "kernelspec": {
   "display_name": "Python 3 (ipykernel)",
   "language": "python",
   "name": "python3"
  },
  "language_info": {
   "codemirror_mode": {
    "name": "ipython",
    "version": 3
   },
   "file_extension": ".py",
   "mimetype": "text/x-python",
   "name": "python",
   "nbconvert_exporter": "python",
   "pygments_lexer": "ipython3",
   "version": "3.10.12"
  }
 },
 "nbformat": 4,
 "nbformat_minor": 5
}
