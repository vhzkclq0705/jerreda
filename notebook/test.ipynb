{
 "cells": [
  {
   "cell_type": "code",
   "execution_count": 2,
   "id": "bb49ef7d-7e62-4c69-8e5c-b881d31fda6f",
   "metadata": {},
   "outputs": [],
   "source": [
    "from president_speech.db.parquet_interpreter import read_parquet, get_parquet_full_path\n",
    "import pandas as pd"
   ]
  },
  {
   "cell_type": "code",
   "execution_count": 3,
   "id": "ce81e877-f284-40b8-bc50-77838566cf60",
   "metadata": {},
   "outputs": [],
   "source": [
    "data_path = get_parquet_full_path()\n",
    "df = pd.read_parquet(data_path)"
   ]
  },
  {
   "cell_type": "code",
   "execution_count": 4,
   "id": "fd5494a6-9976-410c-96c8-ff405a65bec7",
   "metadata": {},
   "outputs": [],
   "source": [
    "keyword = \"자유\"\n",
    "asc = False"
   ]
  },
  {
   "cell_type": "code",
   "execution_count": 5,
   "id": "560cbe89-a190-44c9-b232-65360ae4f794",
   "metadata": {},
   "outputs": [],
   "source": [
    "fdf = df[df[\"speech_text\"].str.contains(keyword, case=False)]"
   ]
  },
  {
   "cell_type": "code",
   "execution_count": 6,
   "id": "e3da8632-9733-4ada-b9c0-37da11114a36",
   "metadata": {},
   "outputs": [],
   "source": [
    "gdf = fdf.groupby(\"president\").size().reset_index(name=\"count\")"
   ]
  },
  {
   "cell_type": "code",
   "execution_count": 7,
   "id": "04137d4d-d422-4877-bcf0-003f3b46a3c3",
   "metadata": {},
   "outputs": [],
   "source": [
    "sdf = gdf.sort_values(by=\"count\", ascending=asc).reset_index(drop=True)"
   ]
  },
  {
   "cell_type": "code",
   "execution_count": 8,
   "id": "c4ad6839-ee5d-4e5e-aa27-69d67dd2c381",
   "metadata": {},
   "outputs": [
    {
     "data": {
      "text/html": [
       "<div>\n",
       "<style scoped>\n",
       "    .dataframe tbody tr th:only-of-type {\n",
       "        vertical-align: middle;\n",
       "    }\n",
       "\n",
       "    .dataframe tbody tr th {\n",
       "        vertical-align: top;\n",
       "    }\n",
       "\n",
       "    .dataframe thead th {\n",
       "        text-align: right;\n",
       "    }\n",
       "</style>\n",
       "<table border=\"1\" class=\"dataframe\">\n",
       "  <thead>\n",
       "    <tr style=\"text-align: right;\">\n",
       "      <th></th>\n",
       "      <th>president</th>\n",
       "      <th>count</th>\n",
       "    </tr>\n",
       "  </thead>\n",
       "  <tbody>\n",
       "    <tr>\n",
       "      <th>0</th>\n",
       "      <td>박정희</td>\n",
       "      <td>513</td>\n",
       "    </tr>\n",
       "    <tr>\n",
       "      <th>1</th>\n",
       "      <td>이승만</td>\n",
       "      <td>438</td>\n",
       "    </tr>\n",
       "    <tr>\n",
       "      <th>2</th>\n",
       "      <td>노태우</td>\n",
       "      <td>399</td>\n",
       "    </tr>\n",
       "    <tr>\n",
       "      <th>3</th>\n",
       "      <td>김대중</td>\n",
       "      <td>305</td>\n",
       "    </tr>\n",
       "    <tr>\n",
       "      <th>4</th>\n",
       "      <td>문재인</td>\n",
       "      <td>275</td>\n",
       "    </tr>\n",
       "    <tr>\n",
       "      <th>5</th>\n",
       "      <td>김영삼</td>\n",
       "      <td>274</td>\n",
       "    </tr>\n",
       "    <tr>\n",
       "      <th>6</th>\n",
       "      <td>이명박</td>\n",
       "      <td>262</td>\n",
       "    </tr>\n",
       "    <tr>\n",
       "      <th>7</th>\n",
       "      <td>전두환</td>\n",
       "      <td>242</td>\n",
       "    </tr>\n",
       "    <tr>\n",
       "      <th>8</th>\n",
       "      <td>노무현</td>\n",
       "      <td>230</td>\n",
       "    </tr>\n",
       "    <tr>\n",
       "      <th>9</th>\n",
       "      <td>박근혜</td>\n",
       "      <td>111</td>\n",
       "    </tr>\n",
       "    <tr>\n",
       "      <th>10</th>\n",
       "      <td>최규하</td>\n",
       "      <td>14</td>\n",
       "    </tr>\n",
       "    <tr>\n",
       "      <th>11</th>\n",
       "      <td>윤보선</td>\n",
       "      <td>1</td>\n",
       "    </tr>\n",
       "  </tbody>\n",
       "</table>\n",
       "</div>"
      ],
      "text/plain": [
       "   president  count\n",
       "0        박정희    513\n",
       "1        이승만    438\n",
       "2        노태우    399\n",
       "3        김대중    305\n",
       "4        문재인    275\n",
       "5        김영삼    274\n",
       "6        이명박    262\n",
       "7        전두환    242\n",
       "8        노무현    230\n",
       "9        박근혜    111\n",
       "10       최규하     14\n",
       "11       윤보선      1"
      ]
     },
     "execution_count": 8,
     "metadata": {},
     "output_type": "execute_result"
    }
   ],
   "source": [
    "sdf"
   ]
  },
  {
   "cell_type": "code",
   "execution_count": 9,
   "id": "8f4f8ee5-b879-498b-8a36-f3754ca17a4f",
   "metadata": {},
   "outputs": [],
   "source": [
    "presidents_speeches = {\n",
    "    \"박정희\": 513,\n",
    "    \"이승만\": 438,\n",
    "    \"노태우\": 399,\n",
    "    \"김대중\": 305,\n",
    "    \"문재인\": 275,\n",
    "    \"김영삼\": 274,\n",
    "    \"이명박\": 262,\n",
    "    \"전두환\": 242,\n",
    "    \"노무현\": 230,\n",
    "    \"박근혜\": 111,\n",
    "    \"최규하\": 14,\n",
    "    \"윤보선\": 1\n",
    "}"
   ]
  },
  {
   "cell_type": "code",
   "execution_count": 17,
   "id": "1a62c45d-5e6b-4200-95aa-5d5fe60b2133",
   "metadata": {},
   "outputs": [
    {
     "name": "stdout",
     "output_type": "stream",
     "text": [
      "513\n",
      "438\n",
      "399\n",
      "305\n",
      "275\n",
      "274\n",
      "262\n",
      "242\n",
      "230\n",
      "111\n",
      "14\n",
      "1\n"
     ]
    }
   ],
   "source": [
    "for p_name, s_count in presidents_speeches.items():\n",
    "    president_row = sdf[sdf[\"president\"] == p_name]\n",
    "    print(president_row.iloc[0][\"count\"])\n",
    "    # print(f\"{p_name} -> {s_count}\")"
   ]
  },
  {
   "cell_type": "code",
   "execution_count": 14,
   "id": "aa655296-b5fc-49fd-a7cf-367b3e98410f",
   "metadata": {},
   "outputs": [
    {
     "name": "stdout",
     "output_type": "stream",
     "text": [
      "박정희 -> 513\n",
      "이승만 -> 438\n",
      "노태우 -> 399\n",
      "김대중 -> 305\n",
      "문재인 -> 275\n",
      "김영삼 -> 274\n",
      "이명박 -> 262\n",
      "전두환 -> 242\n",
      "노무현 -> 230\n",
      "박근혜 -> 111\n",
      "최규하 -> 14\n",
      "윤보선 -> 1\n"
     ]
    }
   ],
   "source": [
    "for _, v in enumerate(presidents_speeches.items()):\n",
    "    print(f\"{v[0]} -> {v[1]}\")"
   ]
  },
  {
   "cell_type": "code",
   "execution_count": null,
   "id": "3295053e-c714-4463-8ead-47cbc90e3c96",
   "metadata": {},
   "outputs": [],
   "source": []
  }
 ],
 "metadata": {
  "kernelspec": {
   "display_name": "Python 3 (ipykernel)",
   "language": "python",
   "name": "python3"
  },
  "language_info": {
   "codemirror_mode": {
    "name": "ipython",
    "version": 3
   },
   "file_extension": ".py",
   "mimetype": "text/x-python",
   "name": "python",
   "nbconvert_exporter": "python",
   "pygments_lexer": "ipython3",
   "version": "3.10.12"
  }
 },
 "nbformat": 4,
 "nbformat_minor": 5
}
