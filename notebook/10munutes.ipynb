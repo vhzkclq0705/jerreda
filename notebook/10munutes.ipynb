{
 "cells": [
  {
   "cell_type": "markdown",
   "id": "faf6646a-5a4c-4c3d-8580-4b6dff4ac28b",
   "metadata": {},
   "source": [
    "# Pnadas 10분 완성\n",
    "\n",
    "- [관련 링크](https://dataitgirls2.github.io/10minutes2pandas/)\n",
    "\n",
    "### 목차\n",
    "|장|내용|\n",
    "|---|---|\n",
    "|1|Object Creation(객체 생성)|\n",
    "|2|Viewing Data(데이터 확인하기)|\n",
    "|3|Selection(선택)|\n",
    "|4|Missing Data(결측치)|\n",
    "|5|Operation(연산)|\n",
    "|6|Merge(병합)|\n",
    "|7|Grouping(그룹화)|\n",
    "|8|Reshaping(변형)|\n",
    "|9|Time Series(시계열)|\n",
    "|10|Categoricals(범주화)|\n",
    "|11|Plotting(그래프)|\n",
    "|12|Getting Data In/Out(데이터 입/출력)|\n",
    "|13|Gotchas(잡았다!)|\n",
    "\n",
    "일반적으로 각 패키지는 pd, np, plt라는 이름으로 불러온다."
   ]
  },
  {
   "cell_type": "code",
   "execution_count": 2,
   "id": "610945d7-48e5-4c17-942d-1727911b5611",
   "metadata": {},
   "outputs": [
    {
     "ename": "ModuleNotFoundError",
     "evalue": "No module named 'matplotlib'",
     "output_type": "error",
     "traceback": [
      "\u001b[0;31m---------------------------------------------------------------------------\u001b[0m",
      "\u001b[0;31mModuleNotFoundError\u001b[0m                       Traceback (most recent call last)",
      "Cell \u001b[0;32mIn[2], line 3\u001b[0m\n\u001b[1;32m      1\u001b[0m \u001b[38;5;28;01mimport\u001b[39;00m\u001b[38;5;250m \u001b[39m\u001b[38;5;21;01mpandas\u001b[39;00m\u001b[38;5;250m \u001b[39m\u001b[38;5;28;01mas\u001b[39;00m\u001b[38;5;250m \u001b[39m\u001b[38;5;21;01mpd\u001b[39;00m\n\u001b[1;32m      2\u001b[0m \u001b[38;5;28;01mimport\u001b[39;00m\u001b[38;5;250m \u001b[39m\u001b[38;5;21;01mnumpy\u001b[39;00m\u001b[38;5;250m \u001b[39m\u001b[38;5;28;01mas\u001b[39;00m\u001b[38;5;250m \u001b[39m\u001b[38;5;21;01mnp\u001b[39;00m\n\u001b[0;32m----> 3\u001b[0m \u001b[38;5;28;01mimport\u001b[39;00m\u001b[38;5;250m \u001b[39m\u001b[38;5;21;01mmatplotlib\u001b[39;00m\u001b[38;5;21;01m.\u001b[39;00m\u001b[38;5;21;01mpyplot\u001b[39;00m\u001b[38;5;250m \u001b[39m\u001b[38;5;28;01mas\u001b[39;00m\u001b[38;5;250m \u001b[39m\u001b[38;5;21;01mplt\u001b[39;00m\n",
      "\u001b[0;31mModuleNotFoundError\u001b[0m: No module named 'matplotlib'"
     ]
    }
   ],
   "source": [
    "import pandas as pd\n",
    "import numpy as np\n",
    "import matplotlib.pyplot as plt"
   ]
  },
  {
   "cell_type": "code",
   "execution_count": null,
   "id": "13b241db-ce8f-4128-a960-1d1c54d5f83e",
   "metadata": {},
   "outputs": [],
   "source": []
  }
 ],
 "metadata": {
  "kernelspec": {
   "display_name": "Python 3 (ipykernel)",
   "language": "python",
   "name": "python3"
  },
  "language_info": {
   "codemirror_mode": {
    "name": "ipython",
    "version": 3
   },
   "file_extension": ".py",
   "mimetype": "text/x-python",
   "name": "python",
   "nbconvert_exporter": "python",
   "pygments_lexer": "ipython3",
   "version": "3.10.12"
  }
 },
 "nbformat": 4,
 "nbformat_minor": 5
}
