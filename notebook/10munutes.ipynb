{
 "cells": [
  {
   "cell_type": "markdown",
   "id": "faf6646a-5a4c-4c3d-8580-4b6dff4ac28b",
   "metadata": {},
   "source": [
    "# Pnadas 10분 완성\n",
    "\n",
    "- [관련 링크](https://dataitgirls2.github.io/10minutes2pandas/)\n",
    "\n",
    "### 목차\n",
    "|장|내용|\n",
    "|---|---|\n",
    "|1|Object Creation(객체 생성)|\n",
    "|2|Viewing Data(데이터 확인하기)|\n",
    "|3|Selection(선택)|\n",
    "|4|Missing Data(결측치)|\n",
    "|5|Operation(연산)|\n",
    "|6|Merge(병합)|\n",
    "|7|Grouping(그룹화)|\n",
    "|8|Reshaping(변형)|\n",
    "|9|Time Series(시계열)|\n",
    "|10|Categoricals(범주화)|\n",
    "|11|Plotting(그래프)|\n",
    "|12|Getting Data In/Out(데이터 입/출력)|\n",
    "|13|Gotchas(잡았다!)|\n",
    "\n",
    "일반적으로 각 패키지는 pd, np, plt라는 이름으로 불러온다."
   ]
  },
  {
   "cell_type": "code",
   "execution_count": 1,
   "id": "610945d7-48e5-4c17-942d-1727911b5611",
   "metadata": {},
   "outputs": [
    {
     "name": "stderr",
     "output_type": "stream",
     "text": [
      "Matplotlib is building the font cache; this may take a moment.\n"
     ]
    }
   ],
   "source": [
    "import pandas as pd\n",
    "import numpy as np\n",
    "import matplotlib.pyplot as plt"
   ]
  },
  {
   "cell_type": "markdown",
   "id": "f0c309b7-d858-45c6-a7b5-f5d1045ec117",
   "metadata": {},
   "source": [
    "## 1. Object Creation (객체 생성)\n",
    "\n",
    "Pandas는 값을 가지고 있는 리스트를 통해 `Series`를 만들고, 정수로 만들어진 인덱스를 기본값으로 불러온다."
   ]
  },
  {
   "cell_type": "code",
   "execution_count": 3,
   "id": "0cd36ebc-d5c5-4d89-a637-a93ce06416a8",
   "metadata": {},
   "outputs": [],
   "source": [
    "s = pd.Series([1, 3, 5, np.nan, 6, 8])"
   ]
  },
  {
   "cell_type": "code",
   "execution_count": 4,
   "id": "dbbe82bd-6e4c-497f-ae25-08f592f94420",
   "metadata": {},
   "outputs": [
    {
     "data": {
      "text/plain": [
       "0    1.0\n",
       "1    3.0\n",
       "2    5.0\n",
       "3    NaN\n",
       "4    6.0\n",
       "5    8.0\n",
       "dtype: float64"
      ]
     },
     "execution_count": 4,
     "metadata": {},
     "output_type": "execute_result"
    }
   ],
   "source": [
    "s"
   ]
  },
  {
   "cell_type": "markdown",
   "id": "08150b57-2fb1-415b-9879-6c73d9aef0cf",
   "metadata": {},
   "source": [
    "`datatime` 인덱스와 레이블이 있는 열을 가지고 있는 numpy 배열을 전달하여 데이터프레임을 생성한다. "
   ]
  },
  {
   "cell_type": "code",
   "execution_count": 5,
   "id": "5b69d2b8-8ef7-4624-8720-c66b74a6b885",
   "metadata": {},
   "outputs": [],
   "source": [
    "dates = pd.date_range('20250123', periods=6)"
   ]
  },
  {
   "cell_type": "code",
   "execution_count": 6,
   "id": "1148ec91-429d-45a8-a75b-cb8d59ce8ab9",
   "metadata": {},
   "outputs": [
    {
     "data": {
      "text/plain": [
       "DatetimeIndex(['2025-01-23', '2025-01-24', '2025-01-25', '2025-01-26',\n",
       "               '2025-01-27', '2025-01-28'],\n",
       "              dtype='datetime64[ns]', freq='D')"
      ]
     },
     "execution_count": 6,
     "metadata": {},
     "output_type": "execute_result"
    }
   ],
   "source": [
    "dates"
   ]
  },
  {
   "cell_type": "code",
   "execution_count": 7,
   "id": "e3e58954-1261-49eb-bb54-6ebde57d1df0",
   "metadata": {},
   "outputs": [],
   "source": [
    "df = pd.DataFrame(np.random.randn(6, 4), index=dates, columns=list('ABCD'))"
   ]
  },
  {
   "cell_type": "code",
   "execution_count": 8,
   "id": "c744a16f-9c25-4997-a6aa-c56dd2a50b01",
   "metadata": {},
   "outputs": [
    {
     "data": {
      "text/html": [
       "<div>\n",
       "<style scoped>\n",
       "    .dataframe tbody tr th:only-of-type {\n",
       "        vertical-align: middle;\n",
       "    }\n",
       "\n",
       "    .dataframe tbody tr th {\n",
       "        vertical-align: top;\n",
       "    }\n",
       "\n",
       "    .dataframe thead th {\n",
       "        text-align: right;\n",
       "    }\n",
       "</style>\n",
       "<table border=\"1\" class=\"dataframe\">\n",
       "  <thead>\n",
       "    <tr style=\"text-align: right;\">\n",
       "      <th></th>\n",
       "      <th>A</th>\n",
       "      <th>B</th>\n",
       "      <th>C</th>\n",
       "      <th>D</th>\n",
       "    </tr>\n",
       "  </thead>\n",
       "  <tbody>\n",
       "    <tr>\n",
       "      <th>2025-01-23</th>\n",
       "      <td>-0.546589</td>\n",
       "      <td>-0.554499</td>\n",
       "      <td>0.813592</td>\n",
       "      <td>0.439799</td>\n",
       "    </tr>\n",
       "    <tr>\n",
       "      <th>2025-01-24</th>\n",
       "      <td>1.952686</td>\n",
       "      <td>1.204519</td>\n",
       "      <td>-0.587892</td>\n",
       "      <td>0.322988</td>\n",
       "    </tr>\n",
       "    <tr>\n",
       "      <th>2025-01-25</th>\n",
       "      <td>-0.769340</td>\n",
       "      <td>-0.603733</td>\n",
       "      <td>0.763910</td>\n",
       "      <td>0.708147</td>\n",
       "    </tr>\n",
       "    <tr>\n",
       "      <th>2025-01-26</th>\n",
       "      <td>-1.349199</td>\n",
       "      <td>0.881114</td>\n",
       "      <td>0.136657</td>\n",
       "      <td>-1.355605</td>\n",
       "    </tr>\n",
       "    <tr>\n",
       "      <th>2025-01-27</th>\n",
       "      <td>0.329758</td>\n",
       "      <td>-0.500830</td>\n",
       "      <td>-0.184495</td>\n",
       "      <td>0.579466</td>\n",
       "    </tr>\n",
       "    <tr>\n",
       "      <th>2025-01-28</th>\n",
       "      <td>0.090590</td>\n",
       "      <td>-0.885316</td>\n",
       "      <td>-0.849857</td>\n",
       "      <td>-0.873267</td>\n",
       "    </tr>\n",
       "  </tbody>\n",
       "</table>\n",
       "</div>"
      ],
      "text/plain": [
       "                   A         B         C         D\n",
       "2025-01-23 -0.546589 -0.554499  0.813592  0.439799\n",
       "2025-01-24  1.952686  1.204519 -0.587892  0.322988\n",
       "2025-01-25 -0.769340 -0.603733  0.763910  0.708147\n",
       "2025-01-26 -1.349199  0.881114  0.136657 -1.355605\n",
       "2025-01-27  0.329758 -0.500830 -0.184495  0.579466\n",
       "2025-01-28  0.090590 -0.885316 -0.849857 -0.873267"
      ]
     },
     "execution_count": 8,
     "metadata": {},
     "output_type": "execute_result"
    }
   ],
   "source": [
    "df"
   ]
  },
  {
   "cell_type": "markdown",
   "id": "d0d4b7f8-3fa2-4dfb-a330-a135e969ba6b",
   "metadata": {},
   "source": [
    "Series와 같은 것으로 변환될 수 있는 객체들의 `dict`로 구성된 데이터프레임을 만든다."
   ]
  },
  {
   "cell_type": "code",
   "execution_count": 9,
   "id": "a02580a7-8d47-40dd-9431-559efcd1b4ad",
   "metadata": {},
   "outputs": [],
   "source": [
    "df2 = pd.DataFrame({\n",
    "    'A': 1.,\n",
    "    'B': pd.Timestamp('20250123'),\n",
    "    'C': pd.Series(1, index=list(range(4)), dtype='float32'),\n",
    "    'D': np.array([3] * 4, dtype='int32'),\n",
    "    'E': pd.Categorical([\"test\", \"traing\", \"test\", \"traint\"]),\n",
    "    'F': 'foo'\n",
    "})"
   ]
  },
  {
   "cell_type": "code",
   "execution_count": 11,
   "id": "0f96d722-029c-4e45-944b-72aee872f1b2",
   "metadata": {},
   "outputs": [
    {
     "data": {
      "text/html": [
       "<div>\n",
       "<style scoped>\n",
       "    .dataframe tbody tr th:only-of-type {\n",
       "        vertical-align: middle;\n",
       "    }\n",
       "\n",
       "    .dataframe tbody tr th {\n",
       "        vertical-align: top;\n",
       "    }\n",
       "\n",
       "    .dataframe thead th {\n",
       "        text-align: right;\n",
       "    }\n",
       "</style>\n",
       "<table border=\"1\" class=\"dataframe\">\n",
       "  <thead>\n",
       "    <tr style=\"text-align: right;\">\n",
       "      <th></th>\n",
       "      <th>A</th>\n",
       "      <th>B</th>\n",
       "      <th>C</th>\n",
       "      <th>D</th>\n",
       "      <th>E</th>\n",
       "      <th>F</th>\n",
       "    </tr>\n",
       "  </thead>\n",
       "  <tbody>\n",
       "    <tr>\n",
       "      <th>0</th>\n",
       "      <td>1.0</td>\n",
       "      <td>2025-01-23</td>\n",
       "      <td>1.0</td>\n",
       "      <td>3</td>\n",
       "      <td>test</td>\n",
       "      <td>foo</td>\n",
       "    </tr>\n",
       "    <tr>\n",
       "      <th>1</th>\n",
       "      <td>1.0</td>\n",
       "      <td>2025-01-23</td>\n",
       "      <td>1.0</td>\n",
       "      <td>3</td>\n",
       "      <td>traing</td>\n",
       "      <td>foo</td>\n",
       "    </tr>\n",
       "    <tr>\n",
       "      <th>2</th>\n",
       "      <td>1.0</td>\n",
       "      <td>2025-01-23</td>\n",
       "      <td>1.0</td>\n",
       "      <td>3</td>\n",
       "      <td>test</td>\n",
       "      <td>foo</td>\n",
       "    </tr>\n",
       "    <tr>\n",
       "      <th>3</th>\n",
       "      <td>1.0</td>\n",
       "      <td>2025-01-23</td>\n",
       "      <td>1.0</td>\n",
       "      <td>3</td>\n",
       "      <td>traint</td>\n",
       "      <td>foo</td>\n",
       "    </tr>\n",
       "  </tbody>\n",
       "</table>\n",
       "</div>"
      ],
      "text/plain": [
       "     A          B    C  D       E    F\n",
       "0  1.0 2025-01-23  1.0  3    test  foo\n",
       "1  1.0 2025-01-23  1.0  3  traing  foo\n",
       "2  1.0 2025-01-23  1.0  3    test  foo\n",
       "3  1.0 2025-01-23  1.0  3  traint  foo"
      ]
     },
     "execution_count": 11,
     "metadata": {},
     "output_type": "execute_result"
    }
   ],
   "source": [
    "df2"
   ]
  },
  {
   "cell_type": "markdown",
   "id": "25361507-4853-49d3-8e58-1bc65009aff6",
   "metadata": {},
   "source": [
    "DataFrame의 결과물의 column은 다양한 데이터 타입(dtpyes)으로 구성된다."
   ]
  },
  {
   "cell_type": "code",
   "execution_count": 14,
   "id": "9eead861-d9ef-4075-889a-a261a284dbdc",
   "metadata": {},
   "outputs": [
    {
     "data": {
      "text/plain": [
       "A          float64\n",
       "B    datetime64[s]\n",
       "C          float32\n",
       "D            int32\n",
       "E         category\n",
       "F           object\n",
       "dtype: object"
      ]
     },
     "execution_count": 14,
     "metadata": {},
     "output_type": "execute_result"
    }
   ],
   "source": [
    "df2.dtypes"
   ]
  },
  {
   "cell_type": "markdown",
   "id": "19501644-c5d6-4427-9519-e2596f66b8a9",
   "metadata": {},
   "source": [
    "## 2. Viewing Data (데이터 확인하기)\n",
    "\n",
    "DataFrame의 가장 윗 줄과 마지막 줄을 확인하고 싶을 때에 사용하는 방법은 다음과 같다.\n",
    "- 괄호 안에는 숫자가 들어갈 수도 있고 안 들어갈 수도 있다.\n",
    "- 숫자가 들어간다면, 윗 / 마지막 줄의 특정 줄을 불러올 수 있다.\n",
    "- 숫자가 들어가지 않는다면, 기본값은 5로 처리된다."
   ]
  },
  {
   "cell_type": "code",
   "execution_count": 15,
   "id": "99df7aa0-0408-4584-97b2-42597f476e5e",
   "metadata": {},
   "outputs": [
    {
     "data": {
      "text/html": [
       "<div>\n",
       "<style scoped>\n",
       "    .dataframe tbody tr th:only-of-type {\n",
       "        vertical-align: middle;\n",
       "    }\n",
       "\n",
       "    .dataframe tbody tr th {\n",
       "        vertical-align: top;\n",
       "    }\n",
       "\n",
       "    .dataframe thead th {\n",
       "        text-align: right;\n",
       "    }\n",
       "</style>\n",
       "<table border=\"1\" class=\"dataframe\">\n",
       "  <thead>\n",
       "    <tr style=\"text-align: right;\">\n",
       "      <th></th>\n",
       "      <th>A</th>\n",
       "      <th>B</th>\n",
       "      <th>C</th>\n",
       "      <th>D</th>\n",
       "    </tr>\n",
       "  </thead>\n",
       "  <tbody>\n",
       "    <tr>\n",
       "      <th>2025-01-24</th>\n",
       "      <td>1.952686</td>\n",
       "      <td>1.204519</td>\n",
       "      <td>-0.587892</td>\n",
       "      <td>0.322988</td>\n",
       "    </tr>\n",
       "    <tr>\n",
       "      <th>2025-01-25</th>\n",
       "      <td>-0.769340</td>\n",
       "      <td>-0.603733</td>\n",
       "      <td>0.763910</td>\n",
       "      <td>0.708147</td>\n",
       "    </tr>\n",
       "    <tr>\n",
       "      <th>2025-01-26</th>\n",
       "      <td>-1.349199</td>\n",
       "      <td>0.881114</td>\n",
       "      <td>0.136657</td>\n",
       "      <td>-1.355605</td>\n",
       "    </tr>\n",
       "    <tr>\n",
       "      <th>2025-01-27</th>\n",
       "      <td>0.329758</td>\n",
       "      <td>-0.500830</td>\n",
       "      <td>-0.184495</td>\n",
       "      <td>0.579466</td>\n",
       "    </tr>\n",
       "    <tr>\n",
       "      <th>2025-01-28</th>\n",
       "      <td>0.090590</td>\n",
       "      <td>-0.885316</td>\n",
       "      <td>-0.849857</td>\n",
       "      <td>-0.873267</td>\n",
       "    </tr>\n",
       "  </tbody>\n",
       "</table>\n",
       "</div>"
      ],
      "text/plain": [
       "                   A         B         C         D\n",
       "2025-01-24  1.952686  1.204519 -0.587892  0.322988\n",
       "2025-01-25 -0.769340 -0.603733  0.763910  0.708147\n",
       "2025-01-26 -1.349199  0.881114  0.136657 -1.355605\n",
       "2025-01-27  0.329758 -0.500830 -0.184495  0.579466\n",
       "2025-01-28  0.090590 -0.885316 -0.849857 -0.873267"
      ]
     },
     "execution_count": 15,
     "metadata": {},
     "output_type": "execute_result"
    }
   ],
   "source": [
    "df.tail(3) # 끝에서 마지막 3줄\n",
    "df.tail() # 끝에서 마지막 5줄"
   ]
  },
  {
   "cell_type": "code",
   "execution_count": 16,
   "id": "db761044-d558-4f3a-8620-4dd2a19b40ab",
   "metadata": {},
   "outputs": [
    {
     "data": {
      "text/html": [
       "<div>\n",
       "<style scoped>\n",
       "    .dataframe tbody tr th:only-of-type {\n",
       "        vertical-align: middle;\n",
       "    }\n",
       "\n",
       "    .dataframe tbody tr th {\n",
       "        vertical-align: top;\n",
       "    }\n",
       "\n",
       "    .dataframe thead th {\n",
       "        text-align: right;\n",
       "    }\n",
       "</style>\n",
       "<table border=\"1\" class=\"dataframe\">\n",
       "  <thead>\n",
       "    <tr style=\"text-align: right;\">\n",
       "      <th></th>\n",
       "      <th>A</th>\n",
       "      <th>B</th>\n",
       "      <th>C</th>\n",
       "      <th>D</th>\n",
       "    </tr>\n",
       "  </thead>\n",
       "  <tbody>\n",
       "    <tr>\n",
       "      <th>2025-01-23</th>\n",
       "      <td>-0.546589</td>\n",
       "      <td>-0.554499</td>\n",
       "      <td>0.813592</td>\n",
       "      <td>0.439799</td>\n",
       "    </tr>\n",
       "    <tr>\n",
       "      <th>2025-01-24</th>\n",
       "      <td>1.952686</td>\n",
       "      <td>1.204519</td>\n",
       "      <td>-0.587892</td>\n",
       "      <td>0.322988</td>\n",
       "    </tr>\n",
       "    <tr>\n",
       "      <th>2025-01-25</th>\n",
       "      <td>-0.769340</td>\n",
       "      <td>-0.603733</td>\n",
       "      <td>0.763910</td>\n",
       "      <td>0.708147</td>\n",
       "    </tr>\n",
       "    <tr>\n",
       "      <th>2025-01-26</th>\n",
       "      <td>-1.349199</td>\n",
       "      <td>0.881114</td>\n",
       "      <td>0.136657</td>\n",
       "      <td>-1.355605</td>\n",
       "    </tr>\n",
       "    <tr>\n",
       "      <th>2025-01-27</th>\n",
       "      <td>0.329758</td>\n",
       "      <td>-0.500830</td>\n",
       "      <td>-0.184495</td>\n",
       "      <td>0.579466</td>\n",
       "    </tr>\n",
       "  </tbody>\n",
       "</table>\n",
       "</div>"
      ],
      "text/plain": [
       "                   A         B         C         D\n",
       "2025-01-23 -0.546589 -0.554499  0.813592  0.439799\n",
       "2025-01-24  1.952686  1.204519 -0.587892  0.322988\n",
       "2025-01-25 -0.769340 -0.603733  0.763910  0.708147\n",
       "2025-01-26 -1.349199  0.881114  0.136657 -1.355605\n",
       "2025-01-27  0.329758 -0.500830 -0.184495  0.579466"
      ]
     },
     "execution_count": 16,
     "metadata": {},
     "output_type": "execute_result"
    }
   ],
   "source": [
    "df.head() # 처음에서 5줄"
   ]
  },
  {
   "cell_type": "code",
   "execution_count": 17,
   "id": "077d8c38-9d69-4c2b-b71d-af3323c2a279",
   "metadata": {},
   "outputs": [
    {
     "data": {
      "text/html": [
       "<div>\n",
       "<style scoped>\n",
       "    .dataframe tbody tr th:only-of-type {\n",
       "        vertical-align: middle;\n",
       "    }\n",
       "\n",
       "    .dataframe tbody tr th {\n",
       "        vertical-align: top;\n",
       "    }\n",
       "\n",
       "    .dataframe thead th {\n",
       "        text-align: right;\n",
       "    }\n",
       "</style>\n",
       "<table border=\"1\" class=\"dataframe\">\n",
       "  <thead>\n",
       "    <tr style=\"text-align: right;\">\n",
       "      <th></th>\n",
       "      <th>A</th>\n",
       "      <th>B</th>\n",
       "      <th>C</th>\n",
       "      <th>D</th>\n",
       "    </tr>\n",
       "  </thead>\n",
       "  <tbody>\n",
       "    <tr>\n",
       "      <th>2025-01-26</th>\n",
       "      <td>-1.349199</td>\n",
       "      <td>0.881114</td>\n",
       "      <td>0.136657</td>\n",
       "      <td>-1.355605</td>\n",
       "    </tr>\n",
       "    <tr>\n",
       "      <th>2025-01-27</th>\n",
       "      <td>0.329758</td>\n",
       "      <td>-0.500830</td>\n",
       "      <td>-0.184495</td>\n",
       "      <td>0.579466</td>\n",
       "    </tr>\n",
       "    <tr>\n",
       "      <th>2025-01-28</th>\n",
       "      <td>0.090590</td>\n",
       "      <td>-0.885316</td>\n",
       "      <td>-0.849857</td>\n",
       "      <td>-0.873267</td>\n",
       "    </tr>\n",
       "  </tbody>\n",
       "</table>\n",
       "</div>"
      ],
      "text/plain": [
       "                   A         B         C         D\n",
       "2025-01-26 -1.349199  0.881114  0.136657 -1.355605\n",
       "2025-01-27  0.329758 -0.500830 -0.184495  0.579466\n",
       "2025-01-28  0.090590 -0.885316 -0.849857 -0.873267"
      ]
     },
     "execution_count": 17,
     "metadata": {},
     "output_type": "execute_result"
    }
   ],
   "source": [
    "df.tail(3)"
   ]
  },
  {
   "cell_type": "markdown",
   "id": "a436d187-cc1e-4b0e-a75d-c27a25d4e962",
   "metadata": {},
   "source": [
    "인덱스 (index), 열 (column) 그리고 numpy 데이터에 대한 세부 정보를 본다."
   ]
  },
  {
   "cell_type": "code",
   "execution_count": 18,
   "id": "92dd6f48-e128-4b96-9768-e636a1128d48",
   "metadata": {},
   "outputs": [
    {
     "data": {
      "text/plain": [
       "DatetimeIndex(['2025-01-23', '2025-01-24', '2025-01-25', '2025-01-26',\n",
       "               '2025-01-27', '2025-01-28'],\n",
       "              dtype='datetime64[ns]', freq='D')"
      ]
     },
     "execution_count": 18,
     "metadata": {},
     "output_type": "execute_result"
    }
   ],
   "source": [
    "df.index"
   ]
  },
  {
   "cell_type": "code",
   "execution_count": 19,
   "id": "bf1bb6ce-9d93-4dc2-b5c1-d810e32b37d4",
   "metadata": {},
   "outputs": [
    {
     "data": {
      "text/plain": [
       "Index(['A', 'B', 'C', 'D'], dtype='object')"
      ]
     },
     "execution_count": 19,
     "metadata": {},
     "output_type": "execute_result"
    }
   ],
   "source": [
    "df.columns"
   ]
  },
  {
   "cell_type": "code",
   "execution_count": 20,
   "id": "ac073040-098a-4476-a252-11ab29023f45",
   "metadata": {},
   "outputs": [
    {
     "data": {
      "text/plain": [
       "array([[-0.54658863, -0.55449873,  0.81359169,  0.43979884],\n",
       "       [ 1.95268561,  1.20451876, -0.58789204,  0.32298773],\n",
       "       [-0.76934018, -0.60373303,  0.76391003,  0.70814726],\n",
       "       [-1.34919939,  0.88111376,  0.13665677, -1.35560538],\n",
       "       [ 0.32975752, -0.50082974, -0.1844955 ,  0.57946646],\n",
       "       [ 0.09059024, -0.88531586, -0.84985747, -0.87326705]])"
      ]
     },
     "execution_count": 20,
     "metadata": {},
     "output_type": "execute_result"
    }
   ],
   "source": [
    "df.values"
   ]
  },
  {
   "cell_type": "markdown",
   "id": "f686cca2-715a-44f6-8a69-cf13c2514cbb",
   "metadata": {},
   "source": [
    "describe()는 데이터의 대략적인 통계적 정보 요약을 보여준다.\n",
    "\n",
    "- `count`: 열의 유효값(결측값이 아닌 값)의 개수\n",
    "- `mean`: 열의 평균값\n",
    "- `std`: 열의 표준편차 (데이터의 분산 정도)\n",
    "- `min`: 열의 최솟값\n",
    "- `25%`: 열의 1사분위수 (데이터의 하위 25% 지점)\n",
    "- `50%`: 열의 중앙값 (데이터의 50% 지점, 2사분위수 또는 중위수)\n",
    "- `75%`: 열의 3사분위수 (데이터의 상위 25%를 제외한 하위 75% 지점)\n",
    "- `max`: 열의 최댓값"
   ]
  },
  {
   "cell_type": "code",
   "execution_count": 21,
   "id": "55e910cf-5d23-4a7d-a1f3-19e5f91b6d62",
   "metadata": {},
   "outputs": [
    {
     "data": {
      "text/html": [
       "<div>\n",
       "<style scoped>\n",
       "    .dataframe tbody tr th:only-of-type {\n",
       "        vertical-align: middle;\n",
       "    }\n",
       "\n",
       "    .dataframe tbody tr th {\n",
       "        vertical-align: top;\n",
       "    }\n",
       "\n",
       "    .dataframe thead th {\n",
       "        text-align: right;\n",
       "    }\n",
       "</style>\n",
       "<table border=\"1\" class=\"dataframe\">\n",
       "  <thead>\n",
       "    <tr style=\"text-align: right;\">\n",
       "      <th></th>\n",
       "      <th>A</th>\n",
       "      <th>B</th>\n",
       "      <th>C</th>\n",
       "      <th>D</th>\n",
       "    </tr>\n",
       "  </thead>\n",
       "  <tbody>\n",
       "    <tr>\n",
       "      <th>count</th>\n",
       "      <td>6.000000</td>\n",
       "      <td>6.000000</td>\n",
       "      <td>6.000000</td>\n",
       "      <td>6.000000</td>\n",
       "    </tr>\n",
       "    <tr>\n",
       "      <th>mean</th>\n",
       "      <td>-0.048682</td>\n",
       "      <td>-0.076457</td>\n",
       "      <td>0.015319</td>\n",
       "      <td>-0.029745</td>\n",
       "    </tr>\n",
       "    <tr>\n",
       "      <th>std</th>\n",
       "      <td>1.151233</td>\n",
       "      <td>0.883032</td>\n",
       "      <td>0.687702</td>\n",
       "      <td>0.863707</td>\n",
       "    </tr>\n",
       "    <tr>\n",
       "      <th>min</th>\n",
       "      <td>-1.349199</td>\n",
       "      <td>-0.885316</td>\n",
       "      <td>-0.849857</td>\n",
       "      <td>-1.355605</td>\n",
       "    </tr>\n",
       "    <tr>\n",
       "      <th>25%</th>\n",
       "      <td>-0.713652</td>\n",
       "      <td>-0.591424</td>\n",
       "      <td>-0.487043</td>\n",
       "      <td>-0.574203</td>\n",
       "    </tr>\n",
       "    <tr>\n",
       "      <th>50%</th>\n",
       "      <td>-0.227999</td>\n",
       "      <td>-0.527664</td>\n",
       "      <td>-0.023919</td>\n",
       "      <td>0.381393</td>\n",
       "    </tr>\n",
       "    <tr>\n",
       "      <th>75%</th>\n",
       "      <td>0.269966</td>\n",
       "      <td>0.535628</td>\n",
       "      <td>0.607097</td>\n",
       "      <td>0.544550</td>\n",
       "    </tr>\n",
       "    <tr>\n",
       "      <th>max</th>\n",
       "      <td>1.952686</td>\n",
       "      <td>1.204519</td>\n",
       "      <td>0.813592</td>\n",
       "      <td>0.708147</td>\n",
       "    </tr>\n",
       "  </tbody>\n",
       "</table>\n",
       "</div>"
      ],
      "text/plain": [
       "              A         B         C         D\n",
       "count  6.000000  6.000000  6.000000  6.000000\n",
       "mean  -0.048682 -0.076457  0.015319 -0.029745\n",
       "std    1.151233  0.883032  0.687702  0.863707\n",
       "min   -1.349199 -0.885316 -0.849857 -1.355605\n",
       "25%   -0.713652 -0.591424 -0.487043 -0.574203\n",
       "50%   -0.227999 -0.527664 -0.023919  0.381393\n",
       "75%    0.269966  0.535628  0.607097  0.544550\n",
       "max    1.952686  1.204519  0.813592  0.708147"
      ]
     },
     "execution_count": 21,
     "metadata": {},
     "output_type": "execute_result"
    }
   ],
   "source": [
    "df.describe()"
   ]
  },
  {
   "cell_type": "markdown",
   "id": "d5d839b7-0d20-412f-b2ba-b80378155a15",
   "metadata": {},
   "source": [
    "데이터를 전치한다."
   ]
  },
  {
   "cell_type": "code",
   "execution_count": 22,
   "id": "a6ab63a4-8caf-4f7c-b868-e3439f2ca1e6",
   "metadata": {},
   "outputs": [
    {
     "data": {
      "text/html": [
       "<div>\n",
       "<style scoped>\n",
       "    .dataframe tbody tr th:only-of-type {\n",
       "        vertical-align: middle;\n",
       "    }\n",
       "\n",
       "    .dataframe tbody tr th {\n",
       "        vertical-align: top;\n",
       "    }\n",
       "\n",
       "    .dataframe thead th {\n",
       "        text-align: right;\n",
       "    }\n",
       "</style>\n",
       "<table border=\"1\" class=\"dataframe\">\n",
       "  <thead>\n",
       "    <tr style=\"text-align: right;\">\n",
       "      <th></th>\n",
       "      <th>2025-01-23</th>\n",
       "      <th>2025-01-24</th>\n",
       "      <th>2025-01-25</th>\n",
       "      <th>2025-01-26</th>\n",
       "      <th>2025-01-27</th>\n",
       "      <th>2025-01-28</th>\n",
       "    </tr>\n",
       "  </thead>\n",
       "  <tbody>\n",
       "    <tr>\n",
       "      <th>A</th>\n",
       "      <td>-0.546589</td>\n",
       "      <td>1.952686</td>\n",
       "      <td>-0.769340</td>\n",
       "      <td>-1.349199</td>\n",
       "      <td>0.329758</td>\n",
       "      <td>0.090590</td>\n",
       "    </tr>\n",
       "    <tr>\n",
       "      <th>B</th>\n",
       "      <td>-0.554499</td>\n",
       "      <td>1.204519</td>\n",
       "      <td>-0.603733</td>\n",
       "      <td>0.881114</td>\n",
       "      <td>-0.500830</td>\n",
       "      <td>-0.885316</td>\n",
       "    </tr>\n",
       "    <tr>\n",
       "      <th>C</th>\n",
       "      <td>0.813592</td>\n",
       "      <td>-0.587892</td>\n",
       "      <td>0.763910</td>\n",
       "      <td>0.136657</td>\n",
       "      <td>-0.184495</td>\n",
       "      <td>-0.849857</td>\n",
       "    </tr>\n",
       "    <tr>\n",
       "      <th>D</th>\n",
       "      <td>0.439799</td>\n",
       "      <td>0.322988</td>\n",
       "      <td>0.708147</td>\n",
       "      <td>-1.355605</td>\n",
       "      <td>0.579466</td>\n",
       "      <td>-0.873267</td>\n",
       "    </tr>\n",
       "  </tbody>\n",
       "</table>\n",
       "</div>"
      ],
      "text/plain": [
       "   2025-01-23  2025-01-24  2025-01-25  2025-01-26  2025-01-27  2025-01-28\n",
       "A   -0.546589    1.952686   -0.769340   -1.349199    0.329758    0.090590\n",
       "B   -0.554499    1.204519   -0.603733    0.881114   -0.500830   -0.885316\n",
       "C    0.813592   -0.587892    0.763910    0.136657   -0.184495   -0.849857\n",
       "D    0.439799    0.322988    0.708147   -1.355605    0.579466   -0.873267"
      ]
     },
     "execution_count": 22,
     "metadata": {},
     "output_type": "execute_result"
    }
   ],
   "source": [
    "df.T"
   ]
  },
  {
   "cell_type": "markdown",
   "id": "d70584f6-616e-417f-b241-4457b9504617",
   "metadata": {},
   "source": [
    "축 별로 정렬한다."
   ]
  },
  {
   "cell_type": "code",
   "execution_count": 25,
   "id": "663a3486-8240-476f-901a-bf6bdf6e6113",
   "metadata": {},
   "outputs": [
    {
     "data": {
      "text/html": [
       "<div>\n",
       "<style scoped>\n",
       "    .dataframe tbody tr th:only-of-type {\n",
       "        vertical-align: middle;\n",
       "    }\n",
       "\n",
       "    .dataframe tbody tr th {\n",
       "        vertical-align: top;\n",
       "    }\n",
       "\n",
       "    .dataframe thead th {\n",
       "        text-align: right;\n",
       "    }\n",
       "</style>\n",
       "<table border=\"1\" class=\"dataframe\">\n",
       "  <thead>\n",
       "    <tr style=\"text-align: right;\">\n",
       "      <th></th>\n",
       "      <th>D</th>\n",
       "      <th>C</th>\n",
       "      <th>B</th>\n",
       "      <th>A</th>\n",
       "    </tr>\n",
       "  </thead>\n",
       "  <tbody>\n",
       "    <tr>\n",
       "      <th>2025-01-23</th>\n",
       "      <td>0.439799</td>\n",
       "      <td>0.813592</td>\n",
       "      <td>-0.554499</td>\n",
       "      <td>-0.546589</td>\n",
       "    </tr>\n",
       "    <tr>\n",
       "      <th>2025-01-24</th>\n",
       "      <td>0.322988</td>\n",
       "      <td>-0.587892</td>\n",
       "      <td>1.204519</td>\n",
       "      <td>1.952686</td>\n",
       "    </tr>\n",
       "    <tr>\n",
       "      <th>2025-01-25</th>\n",
       "      <td>0.708147</td>\n",
       "      <td>0.763910</td>\n",
       "      <td>-0.603733</td>\n",
       "      <td>-0.769340</td>\n",
       "    </tr>\n",
       "    <tr>\n",
       "      <th>2025-01-26</th>\n",
       "      <td>-1.355605</td>\n",
       "      <td>0.136657</td>\n",
       "      <td>0.881114</td>\n",
       "      <td>-1.349199</td>\n",
       "    </tr>\n",
       "    <tr>\n",
       "      <th>2025-01-27</th>\n",
       "      <td>0.579466</td>\n",
       "      <td>-0.184495</td>\n",
       "      <td>-0.500830</td>\n",
       "      <td>0.329758</td>\n",
       "    </tr>\n",
       "    <tr>\n",
       "      <th>2025-01-28</th>\n",
       "      <td>-0.873267</td>\n",
       "      <td>-0.849857</td>\n",
       "      <td>-0.885316</td>\n",
       "      <td>0.090590</td>\n",
       "    </tr>\n",
       "  </tbody>\n",
       "</table>\n",
       "</div>"
      ],
      "text/plain": [
       "                   D         C         B         A\n",
       "2025-01-23  0.439799  0.813592 -0.554499 -0.546589\n",
       "2025-01-24  0.322988 -0.587892  1.204519  1.952686\n",
       "2025-01-25  0.708147  0.763910 -0.603733 -0.769340\n",
       "2025-01-26 -1.355605  0.136657  0.881114 -1.349199\n",
       "2025-01-27  0.579466 -0.184495 -0.500830  0.329758\n",
       "2025-01-28 -0.873267 -0.849857 -0.885316  0.090590"
      ]
     },
     "execution_count": 25,
     "metadata": {},
     "output_type": "execute_result"
    }
   ],
   "source": [
    "df.sort_index(axis=1, ascending=False)"
   ]
  },
  {
   "cell_type": "markdown",
   "id": "5d160946-5bfb-40e9-9d2f-8824be42f6ef",
   "metadata": {},
   "source": [
    "값 별로 정렬한다."
   ]
  },
  {
   "cell_type": "code",
   "execution_count": 26,
   "id": "1766c0ba-c56e-45b2-9ef6-d82fde94688f",
   "metadata": {},
   "outputs": [
    {
     "data": {
      "text/html": [
       "<div>\n",
       "<style scoped>\n",
       "    .dataframe tbody tr th:only-of-type {\n",
       "        vertical-align: middle;\n",
       "    }\n",
       "\n",
       "    .dataframe tbody tr th {\n",
       "        vertical-align: top;\n",
       "    }\n",
       "\n",
       "    .dataframe thead th {\n",
       "        text-align: right;\n",
       "    }\n",
       "</style>\n",
       "<table border=\"1\" class=\"dataframe\">\n",
       "  <thead>\n",
       "    <tr style=\"text-align: right;\">\n",
       "      <th></th>\n",
       "      <th>A</th>\n",
       "      <th>B</th>\n",
       "      <th>C</th>\n",
       "      <th>D</th>\n",
       "    </tr>\n",
       "  </thead>\n",
       "  <tbody>\n",
       "    <tr>\n",
       "      <th>2025-01-28</th>\n",
       "      <td>0.090590</td>\n",
       "      <td>-0.885316</td>\n",
       "      <td>-0.849857</td>\n",
       "      <td>-0.873267</td>\n",
       "    </tr>\n",
       "    <tr>\n",
       "      <th>2025-01-25</th>\n",
       "      <td>-0.769340</td>\n",
       "      <td>-0.603733</td>\n",
       "      <td>0.763910</td>\n",
       "      <td>0.708147</td>\n",
       "    </tr>\n",
       "    <tr>\n",
       "      <th>2025-01-23</th>\n",
       "      <td>-0.546589</td>\n",
       "      <td>-0.554499</td>\n",
       "      <td>0.813592</td>\n",
       "      <td>0.439799</td>\n",
       "    </tr>\n",
       "    <tr>\n",
       "      <th>2025-01-27</th>\n",
       "      <td>0.329758</td>\n",
       "      <td>-0.500830</td>\n",
       "      <td>-0.184495</td>\n",
       "      <td>0.579466</td>\n",
       "    </tr>\n",
       "    <tr>\n",
       "      <th>2025-01-26</th>\n",
       "      <td>-1.349199</td>\n",
       "      <td>0.881114</td>\n",
       "      <td>0.136657</td>\n",
       "      <td>-1.355605</td>\n",
       "    </tr>\n",
       "    <tr>\n",
       "      <th>2025-01-24</th>\n",
       "      <td>1.952686</td>\n",
       "      <td>1.204519</td>\n",
       "      <td>-0.587892</td>\n",
       "      <td>0.322988</td>\n",
       "    </tr>\n",
       "  </tbody>\n",
       "</table>\n",
       "</div>"
      ],
      "text/plain": [
       "                   A         B         C         D\n",
       "2025-01-28  0.090590 -0.885316 -0.849857 -0.873267\n",
       "2025-01-25 -0.769340 -0.603733  0.763910  0.708147\n",
       "2025-01-23 -0.546589 -0.554499  0.813592  0.439799\n",
       "2025-01-27  0.329758 -0.500830 -0.184495  0.579466\n",
       "2025-01-26 -1.349199  0.881114  0.136657 -1.355605\n",
       "2025-01-24  1.952686  1.204519 -0.587892  0.322988"
      ]
     },
     "execution_count": 26,
     "metadata": {},
     "output_type": "execute_result"
    }
   ],
   "source": [
    "df.sort_values(by='B')"
   ]
  },
  {
   "cell_type": "code",
   "execution_count": null,
   "id": "7c12ab9d-9d09-45e9-a177-cd395dc41bf9",
   "metadata": {},
   "outputs": [],
   "source": []
  }
 ],
 "metadata": {
  "kernelspec": {
   "display_name": "Python 3 (ipykernel)",
   "language": "python",
   "name": "python3"
  },
  "language_info": {
   "codemirror_mode": {
    "name": "ipython",
    "version": 3
   },
   "file_extension": ".py",
   "mimetype": "text/x-python",
   "name": "python",
   "nbconvert_exporter": "python",
   "pygments_lexer": "ipython3",
   "version": "3.10.12"
  }
 },
 "nbformat": 4,
 "nbformat_minor": 5
}
